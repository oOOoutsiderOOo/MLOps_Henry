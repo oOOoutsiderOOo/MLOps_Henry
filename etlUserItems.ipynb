{
 "cells": [
  {
   "cell_type": "code",
   "execution_count": 1,
   "metadata": {},
   "outputs": [],
   "source": [
    "import pandas as pd\n",
    "import json"
   ]
  },
  {
   "cell_type": "code",
   "execution_count": 2,
   "metadata": {},
   "outputs": [],
   "source": [
    "# Leemos el json y lo guardamos en un string\n",
    "with open('src/australian_users_items.json', encoding='UTF-8') as f:\n",
    "    json_string = f.read()"
   ]
  },
  {
   "cell_type": "code",
   "execution_count": 3,
   "metadata": {},
   "outputs": [],
   "source": [
    "json_string = json_string.replace(\"\\\"\", \"'\")\n",
    "json_string = json_string.replace(\"\\\\'\", \"'\")\n",
    "json_string = json_string.replace(\"\\\\\", \"'\")\n",
    "json_string = json_string.replace(\"{'user_id': '\", '{\"user_id\": \"')\n",
    "json_string = json_string.replace(\"', 'items_count': \", '\", \"items_count\": \"')\n",
    "json_string = json_string.replace(\", 'steam_id': '\", '\", \"steam_id\": \"')\n",
    "json_string = json_string.replace(\"', 'user_url': '\", '\", \"user_url\": \"')\n",
    "json_string = json_string.replace(\"', 'items': [{'item_id': '\", '\", \"items\": [{\"item_id\": \"')\n",
    "json_string = json_string.replace(\"', 'items': []}\", '\", \"items\": []}')\n",
    "json_string = json_string.replace(\"', 'item_name': '\", '\", \"item_name\": \"')\n",
    "json_string = json_string.replace(\"', 'playtime_forever': \", '\", \"playtime_forever\": \"')\n",
    "json_string = json_string.replace(\", 'playtime_2weeks': \", '\", \"playtime_2weeks\": \"')\n",
    "json_string = json_string.replace(\"}, {'item_id': '\", '\"}, {\"item_id\": \"')\n",
    "json_string = json_string.replace(\"}]}\", '\"}]}')"
   ]
  },
  {
   "cell_type": "code",
   "execution_count": 4,
   "metadata": {},
   "outputs": [],
   "source": [
    "# Recorremos el json y lo convertimos en un array. La columna items se desanida y se crea un nuevo array,\n",
    "# agregando el user_id a cada item\n",
    "data_array = []\n",
    "items_array = []\n",
    "for line in json_string.splitlines():\n",
    "    line = json.loads(line)\n",
    "    \n",
    "    if line['items'] != []:\n",
    "        for item in line['items']:\n",
    "                item[\"user_id\"] = line['user_id']\n",
    "                items_array.append(item)\n",
    "    data_array.append(line)"
   ]
  },
  {
   "cell_type": "code",
   "execution_count": 5,
   "metadata": {},
   "outputs": [],
   "source": [
    "#Creamos los dataframes\n",
    "items_df = pd.DataFrame(items_array)\n",
    "users_df = pd.DataFrame(data_array)"
   ]
  },
  {
   "cell_type": "code",
   "execution_count": null,
   "metadata": {},
   "outputs": [],
   "source": [
    "#Limpiamos columnas\n",
    "items_df = items_df.drop(columns=['playtime_2weeks'])\n",
    "items_df['item_name'] = items_df['item_name'].str.lower()\n",
    "\n",
    "#Convertimos los tipos\n",
    "items_df = items_df.astype({'item_id': int, 'item_name': str, 'playtime_forever': int, 'user_id': str})"
   ]
  },
  {
   "cell_type": "code",
   "execution_count": 9,
   "metadata": {},
   "outputs": [],
   "source": [
    "#Guardamos los dataframes en parquet\n",
    "items_df.to_parquet('src/cleaned/items.parquet', index=False)"
   ]
  }
 ],
 "metadata": {
  "kernelspec": {
   "display_name": "Python 3",
   "language": "python",
   "name": "python3"
  },
  "language_info": {
   "codemirror_mode": {
    "name": "ipython",
    "version": 3
   },
   "file_extension": ".py",
   "mimetype": "text/x-python",
   "name": "python",
   "nbconvert_exporter": "python",
   "pygments_lexer": "ipython3",
   "version": "3.11.4"
  },
  "orig_nbformat": 4
 },
 "nbformat": 4,
 "nbformat_minor": 2
}

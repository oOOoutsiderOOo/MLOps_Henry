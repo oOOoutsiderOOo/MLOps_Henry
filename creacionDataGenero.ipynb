{
 "cells": [
  {
   "cell_type": "code",
   "execution_count": 2,
   "metadata": {},
   "outputs": [],
   "source": [
    "import pandas as pd\n"
   ]
  },
  {
   "cell_type": "code",
   "execution_count": 3,
   "metadata": {},
   "outputs": [],
   "source": [
    "#Cargamos los datasets\n",
    "df_items = pd.read_parquet('src/cleaned/items.parquet')\n",
    "df_reviews = pd.read_parquet('src/cleaned/reviews.parquet')\n",
    "df_users = pd.read_parquet('src/cleaned/users.parquet')\n",
    "df_games = pd.read_parquet('src/cleaned/games.parquet')"
   ]
  },
  {
   "cell_type": "code",
   "execution_count": 40,
   "metadata": {},
   "outputs": [],
   "source": [
    "genre_list = set()\n",
    "for i, row in df_games.iterrows():\n",
    "        row_genres = eval(row['genres'])\n",
    "        if row_genres:\n",
    "            for genre in row_genres:\n",
    "                genre_list.add(genre)"
   ]
  },
  {
   "cell_type": "code",
   "execution_count": 41,
   "metadata": {},
   "outputs": [
    {
     "data": {
      "text/plain": [
       "{'Accounting',\n",
       " 'Action',\n",
       " 'Adventure',\n",
       " 'Animation & Modeling',\n",
       " 'Audio Production',\n",
       " 'Casual',\n",
       " 'Design & Illustration',\n",
       " 'Early Access',\n",
       " 'Education',\n",
       " 'Free to Play',\n",
       " 'Indie',\n",
       " 'Massively Multiplayer',\n",
       " 'Photo Editing',\n",
       " 'RPG',\n",
       " 'Racing',\n",
       " 'Simulation',\n",
       " 'Software Training',\n",
       " 'Sports',\n",
       " 'Strategy',\n",
       " 'Utilities',\n",
       " 'Video Production',\n",
       " 'Web Publishing'}"
      ]
     },
     "execution_count": 41,
     "metadata": {},
     "output_type": "execute_result"
    }
   ],
   "source": [
    "genre_list"
   ]
  },
  {
   "cell_type": "code",
   "execution_count": 12,
   "metadata": {},
   "outputs": [],
   "source": [
    "#Guardamos los datasets como csv para importarlos a Supabase\n",
    "df_items.to_csv('src\\cleaned\\csv\\items.csv', index=False)"
   ]
  }
 ],
 "metadata": {
  "kernelspec": {
   "display_name": "Python 3",
   "language": "python",
   "name": "python3"
  },
  "language_info": {
   "codemirror_mode": {
    "name": "ipython",
    "version": 3
   },
   "file_extension": ".py",
   "mimetype": "text/x-python",
   "name": "python",
   "nbconvert_exporter": "python",
   "pygments_lexer": "ipython3",
   "version": "3.11.4"
  },
  "orig_nbformat": 4
 },
 "nbformat": 4,
 "nbformat_minor": 2
}

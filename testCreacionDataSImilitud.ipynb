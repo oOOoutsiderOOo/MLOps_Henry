{
 "cells": [
  {
   "cell_type": "code",
   "execution_count": 1,
   "metadata": {},
   "outputs": [
    {
     "name": "stderr",
     "output_type": "stream",
     "text": [
      "[nltk_data] Downloading package stopwords to\n",
      "[nltk_data]     C:\\Users\\o0o0o0o\\AppData\\Roaming\\nltk_data...\n",
      "[nltk_data]   Package stopwords is already up-to-date!\n"
     ]
    },
    {
     "data": {
      "text/plain": [
       "True"
      ]
     },
     "execution_count": 1,
     "metadata": {},
     "output_type": "execute_result"
    }
   ],
   "source": [
    "import pandas as pd\n",
    "import numpy as np\n",
    "import nltk\n",
    "from nltk.corpus import stopwords\n",
    "nltk.download('stopwords')"
   ]
  },
  {
   "cell_type": "code",
   "execution_count": 2,
   "metadata": {},
   "outputs": [],
   "source": [
    "df_games = pd.read_parquet('./src/cleaned/games.parquet')\n",
    "df_items = pd.read_parquet('./src/cleaned/items.parquet')\n",
    "df_reviews = pd.read_parquet('./src/cleaned/reviews.parquet')"
   ]
  },
  {
   "cell_type": "code",
   "execution_count": 3,
   "metadata": {},
   "outputs": [],
   "source": [
    "#Agrupamos por item_id y sumamos el playtime_forever, luego lo unimos al df games\n",
    "df_hours_for_item = df_items.groupby('item_id').agg({'playtime_forever': 'sum'}).reset_index()\n",
    "df_games_full = pd.merge(df_games, df_hours_for_item, left_on='id', right_on='item_id', how='left').drop('item_id', axis=1)\n",
    "\n",
    "#Agrupamos por item_id y contamos los jugadores, luego lo unimos al df games\n",
    "df_players_for_item = df_items.groupby('item_id').agg({'user_id': 'count'}).reset_index()\n",
    "df_games_full = pd.merge(df_games, df_players_for_item, left_on='id', right_on='item_id', how='left').drop('item_id', axis=1)\n",
    "df_games_full = df_games_full.rename(columns={'user_id': 'player_count'})\n",
    "df_games_full['player_count'] = df_games_full['player_count'].fillna(0)\n"
   ]
  },
  {
   "cell_type": "code",
   "execution_count": 4,
   "metadata": {},
   "outputs": [],
   "source": [
    "#Generamos variables dummies para los tags\n",
    "dummies = df_games_full['tags'].str.replace('[', '').str.replace(']', '').str.replace(\"'\", '').str.get_dummies(sep=', ').add_prefix('tag_')\n",
    "df_games_full = pd.concat([df_games_full, dummies], axis=1).drop('tags', axis=1)"
   ]
  },
  {
   "cell_type": "code",
   "execution_count": 5,
   "metadata": {},
   "outputs": [],
   "source": [
    "#Generamos variables dummies para el genero\n",
    "dummies = df_games_full['genres'].str.replace('[', '').str.replace(']', '').str.replace(\"'\", '').str.get_dummies(sep=', ').add_prefix('genre_')\n",
    "df_games_full = pd.concat([df_games_full, dummies], axis=1).drop('genres', axis=1)"
   ]
  },
  {
   "cell_type": "code",
   "execution_count": 6,
   "metadata": {},
   "outputs": [],
   "source": [
    "#Condicionamos la columna metascore e imputamos el promedio los valores faltantes\n",
    "df_games_full.loc[(df_games_full['metascore'] == \"None\") | (df_games_full['metascore'] == \"NA\"), 'metascore'] = np.nan\n",
    "df_games_full['metascore'] = df_games_full['metascore'].astype('float64')\n",
    "df_games_full['metascore'] = df_games_full['metascore'].mean()\n"
   ]
  },
  {
   "cell_type": "code",
   "execution_count": 7,
   "metadata": {},
   "outputs": [],
   "source": [
    "#Eliminamos las columnas genres y specs, ya que sus valores se encuentran en los tags, y la columna app_name, ya que es p´ractimente igual a title\n",
    "df_games_full = df_games_full.drop(['specs', 'app_name'], axis=1) "
   ]
  },
  {
   "cell_type": "code",
   "execution_count": 8,
   "metadata": {},
   "outputs": [],
   "source": [
    "#Guardamos en un archivo parquet\n",
    "df_games_full.to_parquet('./src/cleaned/games_for_recommendation.parquet')"
   ]
  }
 ],
 "metadata": {
  "kernelspec": {
   "display_name": "Python 3",
   "language": "python",
   "name": "python3"
  },
  "language_info": {
   "codemirror_mode": {
    "name": "ipython",
    "version": 3
   },
   "file_extension": ".py",
   "mimetype": "text/x-python",
   "name": "python",
   "nbconvert_exporter": "python",
   "pygments_lexer": "ipython3",
   "version": "3.11.4"
  },
  "orig_nbformat": 4
 },
 "nbformat": 4,
 "nbformat_minor": 2
}

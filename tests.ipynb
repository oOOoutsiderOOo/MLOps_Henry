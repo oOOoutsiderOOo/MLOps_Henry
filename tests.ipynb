{
 "cells": [
  {
   "cell_type": "code",
   "execution_count": 1,
   "metadata": {},
   "outputs": [],
   "source": [
    "import pandas as pd\n",
    "from sklearn.metrics.pairwise import cosine_similarity, pairwise_distances\n",
    "import numpy as np"
   ]
  },
  {
   "cell_type": "code",
   "execution_count": 2,
   "metadata": {},
   "outputs": [],
   "source": [
    "df_games = pd.read_parquet('src/cleaned/games.parquet')\n",
    "df_genres = pd.read_parquet('src/cleaned/genres.parquet')\n",
    "df_items = pd.read_parquet('src/cleaned/items.parquet')\n",
    "df_reviews = pd.read_parquet('src/cleaned/reviews.parquet')\n",
    "df_users = pd.read_parquet('src/cleaned/users.parquet')\n",
    "df_user_distance = pd.read_parquet('src/cleaned/user_distance_matrix.parquet')"
   ]
  },
  {
   "cell_type": "code",
   "execution_count": 4,
   "metadata": {},
   "outputs": [
    {
     "data": {
      "text/plain": [
       "1280"
      ]
     },
     "execution_count": 4,
     "metadata": {},
     "output_type": "execute_result"
    }
   ],
   "source": [
    "len(df_items.loc[df_items['user_id'] == 'Bluegills', 'item_id'].values.tolist())"
   ]
  },
  {
   "cell_type": "code",
   "execution_count": 122,
   "metadata": {},
   "outputs": [],
   "source": [
    "df_good_games_by_user = df_reviews.loc[df_reviews['sentiment_analysis'] > 0].groupby('user_id').agg({'item_id': 'unique'}).reset_index()\n",
    "df_bad_games_by_user = df_reviews.loc[df_reviews['sentiment_analysis'] == 0].groupby('user_id').agg({'item_id': 'unique'}).reset_index()"
   ]
  },
  {
   "cell_type": "code",
   "execution_count": 123,
   "metadata": {},
   "outputs": [
    {
     "data": {
      "text/plain": [
       "(3063, 2)"
      ]
     },
     "execution_count": 123,
     "metadata": {},
     "output_type": "execute_result"
    }
   ],
   "source": [
    "df_good_games_by_user.shape\n",
    "df_bad_games_by_user.shape"
   ]
  },
  {
   "cell_type": "code",
   "execution_count": 124,
   "metadata": {},
   "outputs": [],
   "source": [
    "good_dummies = pd.get_dummies(df_good_games_by_user['item_id'].explode(), prefix='good').groupby(level=0).sum()\n",
    "bad_dummies = pd.get_dummies(df_bad_games_by_user['item_id'].explode(), prefix='bad').groupby(level=0).sum()"
   ]
  },
  {
   "cell_type": "code",
   "execution_count": 125,
   "metadata": {},
   "outputs": [],
   "source": [
    "df_games_by_user = pd.merge(df_good_games_by_user, good_dummies, left_index=True, right_index=True)"
   ]
  },
  {
   "cell_type": "code",
   "execution_count": 126,
   "metadata": {},
   "outputs": [
    {
     "data": {
      "text/plain": [
       "(22376, 2900)"
      ]
     },
     "execution_count": 126,
     "metadata": {},
     "output_type": "execute_result"
    }
   ],
   "source": [
    "df_games_by_user.shape"
   ]
  },
  {
   "cell_type": "code",
   "execution_count": 127,
   "metadata": {},
   "outputs": [],
   "source": [
    "df_games_by_user = pd.merge(df_games_by_user, bad_dummies, left_index=True, right_index=True, how='left').drop(columns=['item_id'])"
   ]
  },
  {
   "cell_type": "code",
   "execution_count": 131,
   "metadata": {},
   "outputs": [],
   "source": [
    "df_games_by_user.fillna(0, inplace=True)"
   ]
  },
  {
   "cell_type": "code",
   "execution_count": 133,
   "metadata": {},
   "outputs": [],
   "source": [
    "distances = pairwise_distances(df_games_by_user.drop(columns=['user_id']), metric='cosine')"
   ]
  },
  {
   "cell_type": "code",
   "execution_count": 134,
   "metadata": {},
   "outputs": [],
   "source": [
    "df_distances = pd.DataFrame(distances, index=df_games_by_user['user_id'], columns=df_games_by_user['user_id'])"
   ]
  },
  {
   "cell_type": "code",
   "execution_count": 135,
   "metadata": {},
   "outputs": [
    {
     "data": {
      "text/plain": [
       "Index(['--000--', '--ace--', '--ionex--', '-2SV-vuLB-Kg', '-Azsael-',\n",
       "       '-Beave-', '-I_AM_EPIC-', '-Kenny', '-Mad-', '-PRoSlayeR-',\n",
       "       ...\n",
       "       'zuilde', 'zukuta', 'zunbae', 'zuzuga2003', 'zv_odd', 'zvanik',\n",
       "       'zwanzigdrei', 'zy0705', 'zynxgameth', 'zyr0n1c'],\n",
       "      dtype='string', name='user_id', length=22376)"
      ]
     },
     "execution_count": 135,
     "metadata": {},
     "output_type": "execute_result"
    }
   ],
   "source": [
    "df_distances.columns"
   ]
  },
  {
   "cell_type": "code",
   "execution_count": 172,
   "metadata": {},
   "outputs": [
    {
     "data": {
      "text/plain": [
       "user_id\n",
       "Bluegills            2.220446e-16\n",
       "Marixtao             6.464466e-01\n",
       "h00py                6.464466e-01\n",
       "Leonzell             6.464466e-01\n",
       "coolman1342          6.464466e-01\n",
       "76561198062095122    6.464466e-01\n",
       "76561198072365224    6.464466e-01\n",
       "76561198069683661    6.464466e-01\n",
       "narkly               6.464466e-01\n",
       "Mineturdle321        6.464466e-01\n",
       "Name: Bluegills, dtype: float64"
      ]
     },
     "execution_count": 172,
     "metadata": {},
     "output_type": "execute_result"
    }
   ],
   "source": [
    "df_distances['Bluegills'].sort_values().head(10)"
   ]
  },
  {
   "cell_type": "code",
   "execution_count": 160,
   "metadata": {},
   "outputs": [],
   "source": [
    "df_test  = pd.merge(df_reviews, df_games, left_on='item_id', right_on='id', how='left')"
   ]
  },
  {
   "cell_type": "code",
   "execution_count": 179,
   "metadata": {},
   "outputs": [
    {
     "data": {
      "text/html": [
       "<div>\n",
       "<style scoped>\n",
       "    .dataframe tbody tr th:only-of-type {\n",
       "        vertical-align: middle;\n",
       "    }\n",
       "\n",
       "    .dataframe tbody tr th {\n",
       "        vertical-align: top;\n",
       "    }\n",
       "\n",
       "    .dataframe thead th {\n",
       "        text-align: right;\n",
       "    }\n",
       "</style>\n",
       "<table border=\"1\" class=\"dataframe\">\n",
       "  <thead>\n",
       "    <tr style=\"text-align: right;\">\n",
       "      <th></th>\n",
       "      <th>item_id</th>\n",
       "      <th>title</th>\n",
       "      <th>sentiment_analysis</th>\n",
       "    </tr>\n",
       "  </thead>\n",
       "  <tbody>\n",
       "    <tr>\n",
       "      <th>893</th>\n",
       "      <td>293780</td>\n",
       "      <td>crawl</td>\n",
       "      <td>2</td>\n",
       "    </tr>\n",
       "    <tr>\n",
       "      <th>894</th>\n",
       "      <td>20530</td>\n",
       "      <td>red faction</td>\n",
       "      <td>1</td>\n",
       "    </tr>\n",
       "    <tr>\n",
       "      <th>895</th>\n",
       "      <td>208090</td>\n",
       "      <td>loadout</td>\n",
       "      <td>2</td>\n",
       "    </tr>\n",
       "    <tr>\n",
       "      <th>896</th>\n",
       "      <td>57300</td>\n",
       "      <td>amnesia the dark descent</td>\n",
       "      <td>1</td>\n",
       "    </tr>\n",
       "    <tr>\n",
       "      <th>897</th>\n",
       "      <td>39150</td>\n",
       "      <td>final fantasy viii</td>\n",
       "      <td>2</td>\n",
       "    </tr>\n",
       "    <tr>\n",
       "      <th>898</th>\n",
       "      <td>70</td>\n",
       "      <td>halflife</td>\n",
       "      <td>2</td>\n",
       "    </tr>\n",
       "    <tr>\n",
       "      <th>899</th>\n",
       "      <td>13210</td>\n",
       "      <td>unreal tournament 3 black</td>\n",
       "      <td>1</td>\n",
       "    </tr>\n",
       "    <tr>\n",
       "      <th>900</th>\n",
       "      <td>22120</td>\n",
       "      <td>penumbra black plague gold edition</td>\n",
       "      <td>1</td>\n",
       "    </tr>\n",
       "  </tbody>\n",
       "</table>\n",
       "</div>"
      ],
      "text/plain": [
       "     item_id                               title  sentiment_analysis\n",
       "893   293780                               crawl                   2\n",
       "894    20530                         red faction                   1\n",
       "895   208090                             loadout                   2\n",
       "896    57300            amnesia the dark descent                   1\n",
       "897    39150                  final fantasy viii                   2\n",
       "898       70                            halflife                   2\n",
       "899    13210           unreal tournament 3 black                   1\n",
       "900    22120  penumbra black plague gold edition                   1"
      ]
     },
     "execution_count": 179,
     "metadata": {},
     "output_type": "execute_result"
    }
   ],
   "source": [
    "df_test.loc[df_reviews['user_id'] == 'Bluegills', ['item_id', 'title', 'sentiment_analysis']]"
   ]
  }
 ],
 "metadata": {
  "kernelspec": {
   "display_name": "Python 3",
   "language": "python",
   "name": "python3"
  },
  "language_info": {
   "codemirror_mode": {
    "name": "ipython",
    "version": 3
   },
   "file_extension": ".py",
   "mimetype": "text/x-python",
   "name": "python",
   "nbconvert_exporter": "python",
   "pygments_lexer": "ipython3",
   "version": "3.11.4"
  },
  "orig_nbformat": 4
 },
 "nbformat": 4,
 "nbformat_minor": 2
}

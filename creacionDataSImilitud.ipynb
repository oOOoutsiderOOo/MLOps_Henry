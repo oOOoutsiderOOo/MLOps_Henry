{
 "cells": [
  {
   "cell_type": "code",
   "execution_count": 91,
   "metadata": {},
   "outputs": [],
   "source": [
    "import pandas as pd\n",
    "import numpy as np"
   ]
  },
  {
   "cell_type": "code",
   "execution_count": 92,
   "metadata": {},
   "outputs": [],
   "source": [
    "df_games = pd.read_parquet('./src/cleaned/games.parquet')\n",
    "df_items = pd.read_parquet('./src/cleaned/items.parquet')\n",
    "df_reviews = pd.read_parquet('./src/cleaned/reviews.parquet')"
   ]
  },
  {
   "cell_type": "code",
   "execution_count": 93,
   "metadata": {},
   "outputs": [],
   "source": [
    "#Agrupamos por item_id y sumamos el playtime_forever, luego lo unimos al df games\n",
    "df_hours_for_item = df_items.groupby('item_id').agg({'playtime_forever': 'sum'}).reset_index()\n",
    "df_games_full = pd.merge(df_games, df_hours_for_item, left_on='id', right_on='item_id', how='left').drop('item_id', axis=1)\n",
    "\n",
    "#Agrupamos por item_id y contamos los jugadores, luego lo unimos al df games\n",
    "df_players_for_item = df_items.groupby('item_id').agg({'user_id': 'count'}).reset_index()\n",
    "df_games_full = pd.merge(df_games, df_players_for_item, left_on='id', right_on='item_id', how='left').drop('item_id', axis=1)\n",
    "df_games_full = df_games_full.rename(columns={'user_id': 'player_count'})\n",
    "df_games_full['player_count'] = df_games_full['player_count'].fillna(0)\n"
   ]
  },
  {
   "cell_type": "code",
   "execution_count": 94,
   "metadata": {},
   "outputs": [],
   "source": [
    "#Generamos variables dummies para los tags\n",
    "dummies = df_games_full['tags'].str.replace('[', '').str.replace(']', '').str.replace(\"'\", '').str.get_dummies(sep=', ')\n",
    "df_games_full = pd.concat([df_games_full, dummies], axis=1).drop('tags', axis=1)"
   ]
  },
  {
   "cell_type": "code",
   "execution_count": 96,
   "metadata": {},
   "outputs": [],
   "source": [
    "#Condicionamos la columna metascore e imputamos los valores faltantes al promedio\n",
    "df_games_full.loc[(df_games_full['metascore'] == \"None\") | (df_games_full['metascore'] == \"NA\"), 'metascore'] = np.nan\n",
    "df_games_full['metascore'] = df_games_full['metascore'].astype('float64')\n",
    "df_games_full['metascore'] = df_games_full['metascore'].mean()\n"
   ]
  },
  {
   "cell_type": "code",
   "execution_count": 100,
   "metadata": {},
   "outputs": [
    {
     "name": "stdout",
     "output_type": "stream",
     "text": [
      "['genres', 'app_name', 'title', 'release_date', 'specs', 'price', 'id', 'metascore', 'player_count', '\"1990s\"', '\"Beat em up\"', '\"Shoot Em Up\"', '1980s', '2.5D', '2D', '2D Fighter', '3D Platformer', '3D Vision', '4 Player Local', '4X', '6DOF', 'Abstract', 'Action', 'Action RPG', 'Action-Adventure', 'Adventure', 'Agriculture', 'Aliens', 'Alternate History', 'America', 'Animation & Modeling', 'Anime', 'Arcade', 'Arena Shooter', 'Artificial Intelligence', 'Assassin', 'Asynchronous Multiplayer', 'Atmospheric', 'Audio Production', 'Base Building', 'Based On A Novel', 'Basketball', 'Batman', 'Benchmark', 'Blood', 'Board Game', 'Bowling', 'Building', 'Bullet Hell', 'Bullet Time', 'CRPG', 'Capitalism', 'Card Game', 'Cartoon', 'Cartoony', 'Casual', 'Character Action Game', 'Character Customization', 'Chess', 'Choices Matter', 'Choose Your Own Adventure', 'Cinematic', 'City Builder', 'Class-Based', 'Classic', 'Clicker', 'Co-op', 'Co-op Campaign', 'Cold War', 'Colorful', 'Comedy', 'Comic Book', 'Competitive', 'Conspiracy', 'Controller', 'Conversation', 'Crafting', 'Crime', 'Crowdfunded', 'Cult Classic', 'Cute', 'Cyberpunk', 'Cycling', 'Dark', 'Dark Comedy', 'Dark Fantasy', 'Dark Humor', 'Dating Sim', 'Demons', 'Design & Illustration', 'Destruction', 'Detective', 'Difficult', 'Dinosaurs', 'Diplomacy', 'Documentary', 'Dragons', 'Drama', 'Driving', 'Dungeon Crawler', 'Dynamic Narration', 'Dystopian', 'Early Access', 'Economy', 'Education', 'Episodic', 'Experience', 'Experimental', 'Exploration', 'FMV', 'FPS', 'Faith', 'Family Friendly', 'Fantasy', 'Fast-Paced', 'Female Protagonist', 'Fighting', 'First-Person', 'Fishing', 'Flight', 'Football', 'Foreign', 'Free to Play', 'Funny', 'Futuristic', 'Gambling', 'Game Development', 'GameMaker', 'Games Workshop', 'Gaming', 'God Game', 'Golf', 'Gore', 'Gothic', 'Grand Strategy', 'Great Soundtrack', 'Grid-Based Movement', 'Gun Customization', 'Hack and Slash', 'Hacking', 'Hand-drawn', 'Hardware', 'Heist', 'Hex Grid', 'Hidden Object', 'Historical', 'Horror', 'Horses', 'Hunting', 'Illuminati', 'Indie', 'Intentionally Awkward Controls', 'Interactive Fiction', 'Inventory Management', 'Investigation', 'Isometric', 'JRPG', 'Kickstarter', 'LEGO', 'Lara Croft', 'Lemmings', 'Level Editor', 'Linear', 'Local Co-Op', 'Local Multiplayer', 'Loot', 'Lore-Rich', 'Lovecraftian', 'MMORPG', 'MOBA', 'Magic', 'Management', 'Mars', 'Martial Arts', 'Massively Multiplayer', 'Match 3', 'Mature', 'Mechs', 'Medieval', 'Memes', 'Metroidvania', 'Military', 'Mini Golf', 'Minimalist', 'Mining', 'Mod', 'Moddable', 'Modern', 'Mouse only', 'Movie', 'Multiplayer', 'Multiple Endings', 'Music', 'Music-Based Procedural Generation', 'Mystery', 'Mystery Dungeon', 'Mythology', 'NSFW', 'Narration', 'Naval', 'Ninja', 'Noir', 'None', 'Nonlinear', 'Nudity', 'Offroad', 'On-Rails Shooter', 'Online Co-Op', 'Open World', 'Otome', 'Parkour', 'Parody', 'Party-Based RPG', 'Perma Death', 'Philisophical', 'Photo Editing', 'Physics', 'Pinball', 'Pirates', 'Pixel Graphics', 'Platformer', 'Point & Click', 'Political', 'Politics', 'Pool', 'Post-apocalyptic', 'Procedural Generation', 'Programming', 'Psychedelic', 'Psychological', 'Psychological Horror', 'Puzzle', 'Puzzle-Platformer', 'PvE', 'PvP', 'Quick-Time Events', 'RPG', 'RPGMaker', 'RTS', 'Racing', 'Real Time Tactics', 'Real-Time', 'Real-Time with Pause', 'Realistic', 'Relaxing', 'Remake', 'Replay Value', 'Resource Management', 'Retro', 'Rhythm', 'Robots', 'Rogue-like', 'Rogue-lite', 'Romance', 'Rome', 'Runner', 'Sailing', 'Sandbox', 'Satire', 'Sci-fi', 'Science', 'Score Attack', 'Sexual Content', 'Shooter', 'Short', 'Side Scroller', 'Silent Protagonist', 'Simulation', 'Singleplayer', 'Sniper', 'Soccer', 'Software', 'Software Training', 'Sokoban', 'Soundtrack', 'Space', 'Space Sim', 'Spectacle fighter', 'Spelling', 'Split Screen', 'Sports', 'Star Wars', 'Stealth', 'Steam Machine', 'Steampunk', 'Story Rich', 'Strategy', 'Strategy RPG', 'Stylized', 'Superhero', 'Supernatural', 'Surreal', 'Survival', 'Survival Horror', 'Swordplay', 'Tactical', 'Tactical RPG', 'Tanks', 'Team-Based', 'Text-Based', 'Third Person', 'Third-Person Shooter', 'Thriller', 'Time Attack', 'Time Manipulation', 'Time Travel', 'Top-Down', 'Top-Down Shooter', 'Touch-Friendly', 'Tower Defense', 'TrackIR', 'Trading', 'Trading Card Game', 'Trains', 'Transhumanism', 'Turn-Based', 'Turn-Based Combat', 'Turn-Based Strategy', 'Turn-Based Tactics', 'Tutorial', 'Twin Stick Shooter', 'Typing', 'Underground', 'Underwater', 'Utilities', 'VR', 'Vampire', 'Video Production', 'Villain Protagonist', 'Violent', 'Visual Novel', 'Voice Control', 'Voxel', 'Walking Simulator', 'War', 'Wargame', 'Warhammer 40K', 'Web Publishing', 'Werewolves', 'Western', 'Word Game', 'World War I', 'World War II', 'Wrestling', 'Zombies', 'e-sports']\n"
     ]
    }
   ],
   "source": [
    "print(df_games_full.columns.tolist())"
   ]
  }
 ],
 "metadata": {
  "kernelspec": {
   "display_name": "Python 3",
   "language": "python",
   "name": "python3"
  },
  "language_info": {
   "codemirror_mode": {
    "name": "ipython",
    "version": 3
   },
   "file_extension": ".py",
   "mimetype": "text/x-python",
   "name": "python",
   "nbconvert_exporter": "python",
   "pygments_lexer": "ipython3",
   "version": "3.11.4"
  },
  "orig_nbformat": 4
 },
 "nbformat": 4,
 "nbformat_minor": 2
}

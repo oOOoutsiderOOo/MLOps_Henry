{
 "cells": [
  {
   "cell_type": "code",
   "execution_count": 1,
   "metadata": {},
   "outputs": [],
   "source": [
    "import pandas as pd\n",
    "from sklearn.metrics.pairwise import cosine_similarity, pairwise_distances\n",
    "import numpy as np"
   ]
  },
  {
   "cell_type": "code",
   "execution_count": 2,
   "metadata": {},
   "outputs": [],
   "source": [
    "#Cargamos el dataset\n",
    "df_reviews = pd.read_parquet('src/cleaned/reviews.parquet')"
   ]
  },
  {
   "cell_type": "code",
   "execution_count": 3,
   "metadata": {},
   "outputs": [],
   "source": [
    "#Separamos los juegos con reviews positivas y negativas y los agrupamos por usuario\n",
    "df_good_games_by_user = df_reviews.loc[df_reviews['sentiment_analysis'] > 0].groupby('user_id').agg({'item_id': 'unique'}).reset_index()\n",
    "df_bad_games_by_user = df_reviews.loc[df_reviews['sentiment_analysis'] == 0].groupby('user_id').agg({'item_id': 'unique'}).reset_index()"
   ]
  },
  {
   "cell_type": "code",
   "execution_count": 4,
   "metadata": {},
   "outputs": [],
   "source": [
    "#Creamos variables dummies para las reviews positivas y negativas\n",
    "good_dummies = pd.get_dummies(df_good_games_by_user['item_id'].explode(), prefix='good').groupby(level=0).sum()\n",
    "bad_dummies = pd.get_dummies(df_bad_games_by_user['item_id'].explode(), prefix='bad').groupby(level=0).sum()"
   ]
  },
  {
   "cell_type": "code",
   "execution_count": 5,
   "metadata": {},
   "outputs": [],
   "source": [
    "#Unimos los datasets \n",
    "df_games_by_user = pd.merge(df_good_games_by_user, good_dummies, left_index=True, right_index=True)\n",
    "df_games_by_user = pd.merge(df_games_by_user, bad_dummies, left_index=True, right_index=True, how='left').drop(columns=['item_id'])\n",
    "df_games_by_user.fillna(0, inplace=True)"
   ]
  },
  {
   "cell_type": "code",
   "execution_count": 6,
   "metadata": {},
   "outputs": [],
   "source": [
    "#Calculamos la matriz de distancia\n",
    "distances = pairwise_distances(df_games_by_user.drop(columns=['user_id']), metric='cosine')"
   ]
  },
  {
   "cell_type": "code",
   "execution_count": 19,
   "metadata": {},
   "outputs": [],
   "source": [
    "#Convertimos la matriz en un dataframe y agregamos los nombres de los usuarios\n",
    "df_distances = pd.DataFrame(distances, index=df_games_by_user['user_id'].tolist() ,columns=df_games_by_user['user_id'].tolist())\n",
    "# df_distances.insert(0, 'user_id', df_games_by_user['user_id'].tolist())"
   ]
  },
  {
   "cell_type": "code",
   "execution_count": 21,
   "metadata": {},
   "outputs": [],
   "source": [
    "#Guardamos la matrix en un archivo parquet\n",
    "df_distances.to_parquet('src/cleaned/user_distance_matrix.parquet')"
   ]
  }
 ],
 "metadata": {
  "kernelspec": {
   "display_name": "Python 3",
   "language": "python",
   "name": "python3"
  },
  "language_info": {
   "codemirror_mode": {
    "name": "ipython",
    "version": 3
   },
   "file_extension": ".py",
   "mimetype": "text/x-python",
   "name": "python",
   "nbconvert_exporter": "python",
   "pygments_lexer": "ipython3",
   "version": "3.11.4"
  },
  "orig_nbformat": 4
 },
 "nbformat": 4,
 "nbformat_minor": 2
}

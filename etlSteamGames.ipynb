{
 "cells": [
  {
   "cell_type": "code",
   "execution_count": 2,
   "metadata": {},
   "outputs": [],
   "source": [
    "import pandas as pd\n",
    "import json\n",
    "import re"
   ]
  },
  {
   "cell_type": "code",
   "execution_count": 3,
   "metadata": {},
   "outputs": [],
   "source": [
    "#Cargamos el archivo json\n",
    "df = pd.read_json('src/output_steam_games.json', lines=True)"
   ]
  },
  {
   "cell_type": "code",
   "execution_count": null,
   "metadata": {},
   "outputs": [],
   "source": [
    "#Limpiamos los datos\n",
    "\n",
    "#Eliminamos los registros que parecen venir de la concatenación de otra tabla, usando la columna publisher como proxy para identificarlos\n",
    "df = df.dropna(subset=['publisher'])\n",
    "\n",
    "#Eliminamos las columnas que no nos interesan\n",
    "df = df.drop(columns=['publisher', 'url', 'reviews_url', 'discount_price', 'early_access', 'developer', 'user_id', 'items', 'items_count', 'steam_id' ])\n",
    "\n",
    "#Llevamos los nombres a minúsculas y quitamos caracteres especiales\n",
    "df['app_name'] = df['app_name'].apply(lambda x: re.sub(r'[^\\w\\s]', '', x.lower()) if isinstance(x, str) else x)\n",
    "df['title'] = df['title'].apply(lambda x: re.sub(r'[^\\w\\s]', '', x.lower()) if isinstance(x, str) else x)\n",
    "\n",
    "#Reemplazamos el &amp; de algunos géneros por &\n",
    "df['genres'] = df['genres'].apply(lambda x: re.sub(r'&amp;', '&', x) if isinstance(x, str) else x)\n",
    "\n",
    "#COnvertimos el valor free to play a 0 y también los nulos\n",
    "df['price'] = df['price'].apply(lambda x: 0 if isinstance(x, str) else x)\n",
    "df['price'] = df['price'].apply(lambda x: 0 if pd.isnull(x) else x)\n",
    "\n",
    "#Quitamos el registro sin id\n",
    "df.dropna(subset=['id'], inplace=True)\n",
    "\n",
    "#Convertimos los tipos de algunas columnas para evitar errores al inferirlos\n",
    "df = df.convert_dtypes()\n",
    "df = df.astype({'genres': str, 'tags': str, 'specs': str, 'metascore': str})"
   ]
  },
  {
   "cell_type": "code",
   "execution_count": 37,
   "metadata": {},
   "outputs": [],
   "source": [
    "#Guardamos el resultado en un archivo parquet\n",
    "df.to_parquet('src/cleaned/games.parquet', index=False)"
   ]
  }
 ],
 "metadata": {
  "kernelspec": {
   "display_name": "Python 3",
   "language": "python",
   "name": "python3"
  },
  "language_info": {
   "codemirror_mode": {
    "name": "ipython",
    "version": 3
   },
   "file_extension": ".py",
   "mimetype": "text/x-python",
   "name": "python",
   "nbconvert_exporter": "python",
   "pygments_lexer": "ipython3",
   "version": "3.11.4"
  },
  "orig_nbformat": 4
 },
 "nbformat": 4,
 "nbformat_minor": 2
}
